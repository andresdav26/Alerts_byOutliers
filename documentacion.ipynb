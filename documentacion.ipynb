{
 "cells": [
  {
   "cell_type": "markdown",
   "metadata": {},
   "source": [
    "For data that follows a normal distribution, the values that fall more than three standard deviations from the mean are typically considered outliers. \n",
    "\n",
    " A data analyst should use various techniques to visualize and identify outliers before deciding whether they should be dropped, kept, or modified. "
   ]
  },
  {
   "cell_type": "markdown",
   "metadata": {},
   "source": [
    "I recommend following this plan to find and manage outliers in your dataset:\n",
    "\n",
    "- Use data visualization techniques to inspect the data’s distribution and verify the presence of outliers. \n",
    "- Use a statistical method to calculate the outlier data points.\n",
    "- Apply a statistical method to drop or transform the outliers."
   ]
  },
  {
   "cell_type": "markdown",
   "metadata": {},
   "source": [
    "These are a few of the most popular visualization methods for finding outliers in data:\n",
    "\n",
    "- Histogram\n",
    "- Box plot\n",
    "- Scatter plot"
   ]
  },
  {
   "cell_type": "markdown",
   "metadata": {},
   "source": [
    "If the data does not follow a normal distribution. Since the data is skewed, instead of using a z-score we can use interquartile range (IQR) to determine the outliers."
   ]
  },
  {
   "cell_type": "markdown",
   "metadata": {},
   "source": [
    "Since the data doesn’t follow a normal distribution, we will calculate the outlier data points using the statistical method called interquartile range (IQR) instead of using Z-score. Using the IQR, the outlier data points are the ones falling below Q1–1.5 IQR or above Q3 + 1.5 IQR. The Q1 is the 25th percentile and Q3 is the 75th percentile of the dataset, and IQR represents the interquartile range calculated by Q3 minus Q1 (Q3–Q1). "
   ]
  },
  {
   "cell_type": "markdown",
   "metadata": {},
   "source": [
    "**Working with outliers using statistical methods**"
   ]
  },
  {
   "cell_type": "markdown",
   "metadata": {},
   "source": [
    "After identifying the outliers, we need to decide what to do with them. Unfortunately, there is no straightforward “best” solution for dealing with outliers because it depends on the severity of outliers and the goals of the analysis.\n",
    "\n",
    "Here are three techniques we can use to handle outliers:\n",
    "\n",
    "- Drop the outliers\n",
    "- Cap the outliers\n",
    "- Replace outliers using imputation as if they were missing values"
   ]
  },
  {
   "cell_type": "markdown",
   "metadata": {},
   "source": []
  }
 ],
 "metadata": {
  "kernelspec": {
   "display_name": "Python 3.9.13 ('outliers')",
   "language": "python",
   "name": "python3"
  },
  "language_info": {
   "name": "python",
   "version": "3.9.13"
  },
  "orig_nbformat": 4,
  "vscode": {
   "interpreter": {
    "hash": "31c87e1b8489e72c765ad7a61ddcedc36e69ec271aac9dde60dd3fc0c76cf350"
   }
  }
 },
 "nbformat": 4,
 "nbformat_minor": 2
}
